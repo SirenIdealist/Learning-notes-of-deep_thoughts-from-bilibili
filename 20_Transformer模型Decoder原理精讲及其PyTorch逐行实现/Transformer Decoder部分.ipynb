{
 "cells": [
  {
   "cell_type": "code",
   "execution_count": null,
   "metadata": {},
   "outputs": [
    {
     "name": "stdout",
     "output_type": "stream",
     "text": [
      "[tensor([[1., 0., 0., 0.],\n",
      "        [1., 1., 0., 0.],\n",
      "        [1., 1., 1., 0.],\n",
      "        [1., 1., 1., 1.]]), tensor([[1., 0., 0.],\n",
      "        [1., 1., 0.],\n",
      "        [1., 1., 1.]])]\n"
     ]
    }
   ],
   "source": [
    "import torch\n",
    "import torch.nn.functional as F\n",
    "import numpy as np\n",
    "\n",
    "batch_size = 2\n",
    "src_len = torch.Tensor([2, 4]).to(torch.int32)\n",
    "tgt_len = torch.Tensor([4, 3]).to(torch.int32)\n",
    "\n",
    "# Step1: 单词索引构成源句子和目标句子，构建patch，并且做了padding，默认值为0\n",
    "\n",
    "# Step2：构造word embedding\n",
    "\n",
    "# Step3：构造positional encoding\n",
    "\n",
    "# Step4：构造encoder的self-attention mask\n",
    "# mask的shape：[batch_size, max_src_len, max_src_len]，值为1或-inf\n",
    "\n",
    "# Step5：构造intra-attention的mask\n",
    "# Q @ K^T shape: [batch_size, tgt_seq_len, src_seq_len]\n",
    "vaild_encoder_pos = torch.unsqueeze(torch.cat([torch.unsqueeze(F.pad(torch.ones(L), (0, max(src_len)-L)), 0) for L in src_len], dim=0), 2) # 为什么最后一个参数为2？因为矩阵运算是不会让batch_size这个维度参与的，只会让seq_len这个维度参与，因此需要对非0维剩下的维度进行扩维\n",
    "vaild_decoder_pos = torch.unsqueeze(torch.cat([torch.unsqueeze(F.pad(torch.ones(L), (0, max(tgt_len) - L)), 0) for L in tgt_len], dim=0), 2)\n",
    "\n",
    "\n",
    "vaild_cross_pos_matrix = torch.bmm(vaild_decoder_pos, vaild_encoder_pos.transpose(1, 2)) # Q @ K^T\n",
    "invaild_cross_pos_matrix = 1 - vaild_cross_pos_matrix\n",
    "\n",
    "mask_cross_attention = invaild_cross_pos_matrix.to(torch.bool)\n",
    "# # print(vaild_encoder_pos) # '1'表示真实的token，而'0'表示是由padding来的\n",
    "# print(\"The shape of vaild_encoder_loss is: \", vaild_encoder_pos.shape)\n",
    "\n",
    "# print(vaild_decoder_pos)\n",
    "# print(\"The shape of vaild_decoder_pos is : \", vaild_decoder_pos.shape)\n",
    "\n",
    "# print(vaild_cross_pos_matrix)\n",
    "# print(\"The shape of vaild_cross_pos is : \", vaild_cross_pos_matrix.shape)\n",
    "\n",
    "# print(invaild_cross_pos_matrix)\n",
    "\n",
    "# print(mask_cross_attention)\n",
    "# print(\"The shape of mask_cross_attention is : \", mask_cross_attention.shape)\n",
    "\n",
    "# Step 6：构造decoder self-attention的mask\n",
    "tri_matrix = [torch.tril(torch.ones((L, L))) for L in tgt_len]\n",
    "\n",
    "print(tri_matrix)\n",
    "# https://www.bilibili.com/video/BV1Qg411N74v?t=2009.9\n",
    "\n"
   ]
  },
  {
   "cell_type": "code",
   "execution_count": null,
   "metadata": {},
   "outputs": [],
   "source": []
  }
 ],
 "metadata": {
  "kernelspec": {
   "display_name": "py39_torch112_cuda116",
   "language": "python",
   "name": "python3"
  },
  "language_info": {
   "codemirror_mode": {
    "name": "ipython",
    "version": 3
   },
   "file_extension": ".py",
   "mimetype": "text/x-python",
   "name": "python",
   "nbconvert_exporter": "python",
   "pygments_lexer": "ipython3",
   "version": "3.9.20"
  }
 },
 "nbformat": 4,
 "nbformat_minor": 2
}
