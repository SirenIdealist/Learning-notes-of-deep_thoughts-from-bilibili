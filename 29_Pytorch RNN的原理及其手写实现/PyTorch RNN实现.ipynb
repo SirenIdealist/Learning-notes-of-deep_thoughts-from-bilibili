{
 "cells": [
  {
   "cell_type": "code",
   "execution_count": 7,
   "metadata": {},
   "outputs": [
    {
     "name": "stdout",
     "output_type": "stream",
     "text": [
      "tensor([[[-0.4708,  0.8791,  0.5277],\n",
      "         [-0.7765,  0.8896,  0.7426]]], grad_fn=<TransposeBackward1>) tensor([[[-0.7765,  0.8896,  0.7426]]], grad_fn=<StackBackward0>)\n"
     ]
    },
    {
     "data": {
      "text/plain": [
       "(torch.Size([1, 2, 3]), torch.Size([1, 1, 3]))"
      ]
     },
     "execution_count": 7,
     "metadata": {},
     "output_type": "execute_result"
    }
   ],
   "source": [
    "import torch\n",
    "\n",
    "# 单向、单层RNN\n",
    "import torch.nn as nn\n",
    "# 1. 单向、单层RNN\n",
    "single_rnn = nn.RNN(input_size=4, hidden_size=3, num_layers=1, batch_first=True)\n",
    "input = torch.rand(1, 2, 4) # (batch, seq_len, input)\n",
    "\n",
    "output, h_n = single_rnn(input)\n",
    "\n",
    "print(output, h_n)\n",
    "(output.shape, h_n.shape)"
   ]
  },
  {
   "cell_type": "code",
   "execution_count": 5,
   "metadata": {},
   "outputs": [
    {
     "data": {
      "text/plain": [
       "(torch.Size([1, 2, 6]), torch.Size([2, 1, 3]))"
      ]
     },
     "execution_count": 5,
     "metadata": {},
     "output_type": "execute_result"
    }
   ],
   "source": [
    "# 2. 双向、单层RNN\n",
    "bidirectional_rnn = nn.RNN(input_size=4, hidden_size=3, num_layers=1, batch_first=True, bidirectional=True)\n",
    "\n",
    "bi_output, bi_h_n = bidirectional_rnn(input)\n",
    "\n",
    "(bi_output.shape, bi_h_n.shape)"
   ]
  },
  {
   "cell_type": "code",
   "execution_count": 9,
   "metadata": {},
   "outputs": [
    {
     "name": "stdout",
     "output_type": "stream",
     "text": [
      "tensor([[[-0.4413,  0.3953, -0.6507],\n",
      "         [-0.2710, -0.0573,  0.0396],\n",
      "         [ 0.8449, -0.8337,  0.1941]],\n",
      "\n",
      "        [[ 0.4376, -0.5249, -0.1985],\n",
      "         [ 0.4136, -0.7058,  0.4908],\n",
      "         [ 0.2114,  0.0180, -0.7452]]], grad_fn=<TransposeBackward1>)\n",
      "torch.Size([2, 3, 3])\n",
      "tensor([[[ 0.8449, -0.8337,  0.1941],\n",
      "         [ 0.2114,  0.0180, -0.7452]]], grad_fn=<StackBackward0>)\n",
      "torch.Size([1, 2, 3])\n"
     ]
    }
   ],
   "source": [
    "import torch\n",
    "import torch.nn as nn\n",
    "\n",
    "bs, T = 2, 3 # 批大小， 输入序列长度\n",
    "input_size, hidden_size = 2, 3 # 输入特征大小，隐含层特征大小\n",
    "input = torch.randn(bs, T, input_size) # 随机初始化一个输入特征序列\n",
    "h_prev = torch.zeros(bs, hidden_size) # 初始隐含状态\n",
    "\n",
    "# step1: 调用PyTorch RNN API\n",
    "rnn = nn.RNN(input_size, hidden_size, batch_first=True)\n",
    "rnn_output, state_final = rnn(input, h_prev.unsqueeze(0)) # torch.unsqueeze()在指定的维度上插入一个大小为1的维度\n",
    "\n",
    "print(rnn_output)\n",
    "print(rnn_output.shape)\n",
    "print(state_final)\n",
    "print(state_final.shape)\n",
    "\n",
    "# step2: 手写一个rnn_forward函数，实现RNN的计算原理\n",
    "def rnn_forward(input, weight_ih, weight_hh, bias_ih, bias_hh, h_prev):\n",
    "    bs, T, input_size = input.shape\n",
    "    h_dim = weight_ih.shape[0]\n",
    "    h_out = torch.zeros(bs, T, h_dim) # 初始化一个输出（状态矩阵）\n",
    "    \n",
    "    for t in range(T):\n",
    "        x = input[:, t, :].unsqueeze(2) # 获取当前时刻的输入特征，bs*input_size*1\n",
    "        w_ih_batch = weight_ih.unsqueeze(0).tile(bs, 1, 1) # bs*h_dim*input_size\n",
    "        w_hh_batch = weight_hh.unsqueeze(0).tile(bs, 1, 1) # bs*h_dim*h_dim\n",
    "        \n",
    "        w_times_x = torch.bmm(w_ih_batch, x).squeeze(-1) # bs*h_dim\n",
    "        w_times_h = torch.bmm(w_hh_batch, h_prev.unsqueeze(2)).squeeze(-1) # bs*h_dim\n",
    "        h_prev = torch.tanh(w_times_x + bias_ih + w_times_h + bias_hh)"
   ]
  }
 ],
 "metadata": {
  "kernelspec": {
   "display_name": "py39_torch112",
   "language": "python",
   "name": "python3"
  },
  "language_info": {
   "codemirror_mode": {
    "name": "ipython",
    "version": 3
   },
   "file_extension": ".py",
   "mimetype": "text/x-python",
   "name": "python",
   "nbconvert_exporter": "python",
   "pygments_lexer": "ipython3",
   "version": "3.9.20"
  }
 },
 "nbformat": 4,
 "nbformat_minor": 2
}
