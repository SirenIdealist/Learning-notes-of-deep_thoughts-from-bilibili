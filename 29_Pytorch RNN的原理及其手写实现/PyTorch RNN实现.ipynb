{
 "cells": [
  {
   "cell_type": "code",
   "execution_count": 7,
   "metadata": {},
   "outputs": [
    {
     "name": "stdout",
     "output_type": "stream",
     "text": [
      "tensor([[[-0.4708,  0.8791,  0.5277],\n",
      "         [-0.7765,  0.8896,  0.7426]]], grad_fn=<TransposeBackward1>) tensor([[[-0.7765,  0.8896,  0.7426]]], grad_fn=<StackBackward0>)\n"
     ]
    },
    {
     "data": {
      "text/plain": [
       "(torch.Size([1, 2, 3]), torch.Size([1, 1, 3]))"
      ]
     },
     "execution_count": 7,
     "metadata": {},
     "output_type": "execute_result"
    }
   ],
   "source": [
    "import torch\n",
    "\n",
    "# 单向、单层RNN\n",
    "import torch.nn as nn\n",
    "# 1. 单向、单层RNN\n",
    "single_rnn = nn.RNN(input_size=4, hidden_size=3, num_layers=1, batch_first=True)\n",
    "input = torch.rand(1, 2, 4) # (batch, seq_len, input)\n",
    "\n",
    "output, h_n = single_rnn(input)\n",
    "\n",
    "print(output, h_n)\n",
    "(output.shape, h_n.shape)"
   ]
  },
  {
   "cell_type": "code",
   "execution_count": 5,
   "metadata": {},
   "outputs": [
    {
     "data": {
      "text/plain": [
       "(torch.Size([1, 2, 6]), torch.Size([2, 1, 3]))"
      ]
     },
     "execution_count": 5,
     "metadata": {},
     "output_type": "execute_result"
    }
   ],
   "source": [
    "# 2. 双向、单层RNN\n",
    "bidirectional_rnn = nn.RNN(input_size=4, hidden_size=3, num_layers=1, batch_first=True, bidirectional=True)\n",
    "\n",
    "bi_output, bi_h_n = bidirectional_rnn(input)\n",
    "\n",
    "(bi_output.shape, bi_h_n.shape)"
   ]
  },
  {
   "cell_type": "code",
   "execution_count": null,
   "metadata": {},
   "outputs": [],
   "source": [
    "import torch\n",
    "import torch.nn as nn\n",
    "\n",
    "bs, T = 2, 3 # 批大小， 输入序列长度\n",
    "input_size, hidden_size = 2, 3 # 输入特征大小，隐含层特征大小\n",
    "input = torch.randn(bs, T, input_size) # 随机初始化一个输入特征序列\n",
    "h_prev = torch.zeros(bs, hidden_size) # 初始隐含状态\n",
    "\n",
    "# step1: 调用PyTorch RNN API\n"
   ]
  }
 ],
 "metadata": {
  "kernelspec": {
   "display_name": "py39_torch112",
   "language": "python",
   "name": "python3"
  },
  "language_info": {
   "codemirror_mode": {
    "name": "ipython",
    "version": 3
   },
   "file_extension": ".py",
   "mimetype": "text/x-python",
   "name": "python",
   "nbconvert_exporter": "python",
   "pygments_lexer": "ipython3",
   "version": "3.9.20"
  }
 },
 "nbformat": 4,
 "nbformat_minor": 2
}
