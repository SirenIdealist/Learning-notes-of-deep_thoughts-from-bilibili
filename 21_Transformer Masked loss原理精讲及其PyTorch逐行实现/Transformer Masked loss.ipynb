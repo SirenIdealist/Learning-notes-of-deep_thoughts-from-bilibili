{
 "cells": [
  {
   "cell_type": "code",
   "execution_count": 12,
   "metadata": {},
   "outputs": [
    {
     "name": "stdout",
     "output_type": "stream",
     "text": [
      "tensor([[   3,    2, -100],\n",
      "        [   1,    3,    1]])\n",
      "使用F.cross_entropy()的ignore_index参数:  \n",
      " tensor([[0.1995, 2.2872, 0.0000],\n",
      "        [0.6224, 1.9133, 1.7468]]) \n",
      "\n",
      "不使用API的参数，手动为其赋值 \n",
      " tensor([[0.1995, 2.2872, 0.0000],\n",
      "        [0.6224, 1.9133, 1.7468]])\n"
     ]
    }
   ],
   "source": [
    "import torch\n",
    "import torch.nn as nn\n",
    "import torch.nn.functional as F\n",
    "\n",
    "logits = torch.randn(2, 3, 4) # batch_size = 2, seq_len = 3, vocab_size = 4\n",
    "# print(logits)\n",
    "# print(\"The shape of logits is: \", logits.shape)\n",
    "# print(\"-\"*100)\n",
    "\n",
    "label = torch.randint(0, 4, (2, 3))\n",
    "# print(label)\n",
    "logits = logits.transpose(1, 2)\n",
    "# print(logits)\n",
    "# print(\"The shape of logits is: \", logits.shape)\n",
    "\n",
    "# print(\"-\"*100)\n",
    "# print(F.cross_entropy(logits, label))\n",
    "# print(F.cross_entropy(logits, label, reduction='none'))\n",
    "\n",
    "tgt_len = torch.Tensor([2, 3]).to(torch.int32)\n",
    "mask = torch.cat([torch.unsqueeze(F.pad(torch.ones(L), (0, max(tgt_len)-L)), 0) for L in tgt_len], dim=0)\n",
    "\n",
    "# print(mask)\n",
    "# print(\"The shape of mask is: \", mask.shape)\n",
    "\n",
    "# for i in mask:\n",
    "#     print(i.shape)\n",
    "\n",
    "# 对padding部分的loss值mask掉，使得padding部分对loss的贡献为0\n",
    "loss = F.cross_entropy(logits, label, reduction='none')\n",
    "# print(\"Before maskd: \", loss)\n",
    "# print(\"After masked: \", loss * mask)\n",
    "\n",
    "# 事实上可以直接使用F.cross_entropy()的参数ignore_index\n",
    "label_back = label\n",
    "label_back[0, 2] = -100 # 手动对padding部分赋值为-100\n",
    "print(label_back)\n",
    "loss_new = F.cross_entropy(logits, label_back, reduction='none')\n",
    "loss_ignore_index = F.cross_entropy(logits, label, ignore_index=-100, reduction='none') # F.cross_entropy()有参数ignore_index，其针对padding部分将其赋值为-100\n",
    "print(\"使用F.cross_entropy()的ignore_index参数: \", '\\n',loss_ignore_index, '\\n')\n",
    "print(\"不使用API的参数，手动为其赋值\", '\\n',loss_new)"
   ]
  }
 ],
 "metadata": {
  "kernelspec": {
   "display_name": "py39_torch112",
   "language": "python",
   "name": "python3"
  },
  "language_info": {
   "codemirror_mode": {
    "name": "ipython",
    "version": 3
   },
   "file_extension": ".py",
   "mimetype": "text/x-python",
   "name": "python",
   "nbconvert_exporter": "python",
   "pygments_lexer": "ipython3",
   "version": "3.9.20"
  }
 },
 "nbformat": 4,
 "nbformat_minor": 2
}
